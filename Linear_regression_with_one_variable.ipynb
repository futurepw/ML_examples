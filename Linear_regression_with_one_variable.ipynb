{
 "cells": [
  {
   "cell_type": "markdown",
   "metadata": {},
   "source": [
    "# Linear regression with one variable"
   ]
  },
  {
   "cell_type": "markdown",
   "metadata": {},
   "source": [
    "Demonstration of linear regression with one variable, by predicting house prices based on the number of rooms per house."
   ]
  },
  {
   "cell_type": "code",
   "execution_count": 1,
   "metadata": {
    "collapsed": true
   },
   "outputs": [],
   "source": [
    "from sklearn import datasets, linear_model\n",
    "from sklearn.model_selection import train_test_split\n",
    "from sklearn.metrics import median_absolute_error, r2_score\n",
    "import numpy as np\n",
    "import matplotlib.pyplot as plt"
   ]
  },
  {
   "cell_type": "markdown",
   "metadata": {},
   "source": [
    "## Load data"
   ]
  },
  {
   "cell_type": "code",
   "execution_count": 2,
   "metadata": {
    "collapsed": true
   },
   "outputs": [],
   "source": [
    "# Boston house price dataset\n",
    "# http://scikit-learn.org/stable/datasets/index.html#boston-house-prices-dataset\n",
    "houses = datasets.load_boston()"
   ]
  },
  {
   "cell_type": "code",
   "execution_count": 3,
   "metadata": {},
   "outputs": [
    {
     "data": {
      "text/plain": [
       "(506, 13)"
      ]
     },
     "execution_count": 3,
     "metadata": {},
     "output_type": "execute_result"
    }
   ],
   "source": [
    "houses.data.shape"
   ]
  },
  {
   "cell_type": "markdown",
   "metadata": {},
   "source": [
    "There are 506 examples, each with 13 features. We'll just use one feature - the average number of rooms per house, which is feature 5."
   ]
  },
  {
   "cell_type": "code",
   "execution_count": 4,
   "metadata": {},
   "outputs": [
    {
     "data": {
      "text/plain": [
       "array([ 6.575,  6.421,  7.185,  6.998,  7.147])"
      ]
     },
     "execution_count": 4,
     "metadata": {},
     "output_type": "execute_result"
    }
   ],
   "source": [
    "# Average number of rooms per house\n",
    "X = houses.data[:, 5]\n",
    "\n",
    "# Take a peek\n",
    "X[:5]"
   ]
  },
  {
   "cell_type": "markdown",
   "metadata": {},
   "source": [
    "The dataset is averaged over >506 actual houses, hence we can have non-integer number of rooms."
   ]
  },
  {
   "cell_type": "code",
   "execution_count": 5,
   "metadata": {},
   "outputs": [
    {
     "data": {
      "text/plain": [
       "array([ 24. ,  21.6,  34.7,  33.4,  36.2])"
      ]
     },
     "execution_count": 5,
     "metadata": {},
     "output_type": "execute_result"
    }
   ],
   "source": [
    "# Average house price ($10,000), our target variable\n",
    "y = houses.target\n",
    "\n",
    "# Take a peek\n",
    "y[:5]"
   ]
  },
  {
   "cell_type": "markdown",
   "metadata": {},
   "source": [
    "## Visualise data"
   ]
  },
  {
   "cell_type": "code",
   "execution_count": 6,
   "metadata": {},
   "outputs": [
    {
     "data": {
      "image/png": "[encoded data removed]",
      "text/plain": [
       "<matplotlib.figure.Figure at 0x10c419ef0>"
      ]
     },
     "metadata": {},
     "output_type": "display_data"
    }
   ],
   "source": [
    "plt.figure(figsize=(8, 5))\n",
    "plt.plot(X, y, 'rx')\n",
    "plt.title('House prices in Boston')\n",
    "plt.ylabel('Average house price ($10,000)')\n",
    "plt.xlabel('Average number of rooms')\n",
    "plt.show()"
   ]
  },
  {
   "cell_type": "markdown",
   "metadata": {},
   "source": [
    "## Clean and format data"
   ]
  },
  {
   "cell_type": "markdown",
   "metadata": {},
   "source": [
    "The multiple examples with an average price of exactly $500,000 are clearly not natural, they are presumably some sort of error with the data or an artificial ceiling that has been imposed. Since the price of these houses is impossible to predict from the feature, we'll remove these examples from our dataset."
   ]
  },
  {
   "cell_type": "code",
   "execution_count": 7,
   "metadata": {},
   "outputs": [
    {
     "data": {
      "text/plain": [
       "0.031620553359683792"
      ]
     },
     "execution_count": 7,
     "metadata": {},
     "output_type": "execute_result"
    }
   ],
   "source": [
    "np.sum(y==50)/len(y)"
   ]
  },
  {
   "cell_type": "markdown",
   "metadata": {},
   "source": [
    "These examples only make up ~3% of our dataset, so we only lose a small fraction of our data.\n",
    "\n",
    "Also, it's probably safe to assume that any predictions we would want to make using the model would be done with the goal of predicting the \"real\" price, rather than predicting an artificially suppressed price of exactly $500,000."
   ]
  },
  {
   "cell_type": "code",
   "execution_count": 8,
   "metadata": {
    "collapsed": true
   },
   "outputs": [],
   "source": [
    "# Remove examples with price of exactly $500,000\n",
    "to_remove = np.argwhere(y==50)\n",
    "y = np.delete(y, to_remove)\n",
    "X = np.delete(X, to_remove)"
   ]
  },
  {
   "cell_type": "code",
   "execution_count": 9,
   "metadata": {
    "collapsed": true
   },
   "outputs": [],
   "source": [
    "# Split into training and test sets\n",
    "X_train, X_test, y_train, y_test = train_test_split(X, y, test_size=0.2)"
   ]
  },
  {
   "cell_type": "code",
   "execution_count": 10,
   "metadata": {
    "collapsed": true
   },
   "outputs": [],
   "source": [
    "# LinearRegression() requires 2D arrays\n",
    "y_train = y_train[:, np.newaxis]\n",
    "X_train = X_train[:, np.newaxis]\n",
    "y_test = y_test[:, np.newaxis]\n",
    "X_test = X_test[:, np.newaxis]"
   ]
  },
  {
   "cell_type": "markdown",
   "metadata": {},
   "source": [
    "## Train and test linear regression"
   ]
  },
  {
   "cell_type": "code",
   "execution_count": 11,
   "metadata": {},
   "outputs": [
    {
     "data": {
      "text/plain": [
       "LinearRegression(copy_X=True, fit_intercept=True, n_jobs=1, normalize=False)"
      ]
     },
     "execution_count": 11,
     "metadata": {},
     "output_type": "execute_result"
    }
   ],
   "source": [
    "# Train\n",
    "model = linear_model.LinearRegression()\n",
    "model.fit(X_train, y_train)"
   ]
  },
  {
   "cell_type": "code",
   "execution_count": 12,
   "metadata": {
    "collapsed": true
   },
   "outputs": [],
   "source": [
    "# Test\n",
    "y_pred = model.predict(X_test)"
   ]
  },
  {
   "cell_type": "code",
   "execution_count": 13,
   "metadata": {},
   "outputs": [
    {
     "data": {
      "image/png": "[encoded data removed]",
      "text/plain": [
       "<matplotlib.figure.Figure at 0x10c7f2198>"
      ]
     },
     "metadata": {},
     "output_type": "display_data"
    }
   ],
   "source": [
    "# Display test data and fit\n",
    "plt.figure(figsize=(8, 5))\n",
    "plt.plot(X_test, y_test, 'rx', label='Test data')\n",
    "plt.plot(X_test, y_pred, 'b-', label='Linear regression fit')\n",
    "plt.title('House prices in Boston')\n",
    "plt.legend()\n",
    "plt.ylabel('Average house price ($10,000)')\n",
    "plt.xlabel('Average number of rooms')\n",
    "plt.show()"
   ]
  },
  {
   "cell_type": "code",
   "execution_count": 14,
   "metadata": {},
   "outputs": [
    {
     "name": "stdout",
     "output_type": "stream",
     "text": [
      "Fit results:\n",
      "\tGradient: $79806 per room.\n",
      "\tIntercept: $-281772.\n",
      "Performance metrics:\n",
      "\tMedian absolute error: $37075.\n",
      "\tR2 score: 0.56.\n"
     ]
    }
   ],
   "source": [
    "# Quantify performance\n",
    "print('Fit results:')\n",
    "print('\\tGradient: $%.0f per room.' % (model.coef_*1e4))\n",
    "print('\\tIntercept: $%.0f.' % (model.intercept_*1e4))\n",
    "\n",
    "print('Performance metrics:')\n",
    "print('\\tMedian absolute error: $%.0f.' % (median_absolute_error(y_test, y_pred)*1e4))\n",
    "print('\\tR2 score: %.2f.' % (r2_score(y_test, y_pred)))"
   ]
  },
  {
   "cell_type": "markdown",
   "metadata": {},
   "source": [
    "Due to the small size of the test set, and the random train-test split, the performance metrics vary quite a lot each time the notebook is executed. R2 seems to vary between approximately 0.35 - 0.65. We could attain more consistent results if we had more data."
   ]
  }
 ],
 "metadata": {
  "kernelspec": {
   "display_name": "Python 3",
   "language": "python",
   "name": "python3"
  },
  "language_info": {
   "codemirror_mode": {
    "name": "ipython",
    "version": 3
   },
   "file_extension": ".py",
   "mimetype": "text/x-python",
   "name": "python",
   "nbconvert_exporter": "python",
   "pygments_lexer": "ipython3",
   "version": "3.6.2"
  }
 },
 "nbformat": 4,
 "nbformat_minor": 2
}
